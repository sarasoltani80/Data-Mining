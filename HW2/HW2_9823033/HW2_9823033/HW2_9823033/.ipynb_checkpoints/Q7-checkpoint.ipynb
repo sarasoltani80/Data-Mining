{
 "cells": [
  {
   "cell_type": "code",
   "execution_count": 1,
   "id": "ff3f77c4",
   "metadata": {},
   "outputs": [],
   "source": [
    "import pandas as pd\n",
    "import numpy as np\n",
    "from sklearn.neural_network import MLPClassifier\n",
    "from sklearn.model_selection import train_test_split\n",
    "from sklearn.metrics import accuracy_score\n",
    "from sklearn import preprocessing\n",
    "from sklearn.preprocessing import StandardScaler\n",
    "from sklearn.model_selection import GridSearchCV\n",
    "import math\n",
    "from sklearn.metrics import confusion_matrix\n",
    "import matplotlib.pyplot as plt\n",
    "import seaborn as sns\n",
    "from sklearn.metrics import classification_report"
   ]
  },
  {
   "cell_type": "code",
   "execution_count": 2,
   "id": "19051075",
   "metadata": {},
   "outputs": [
    {
     "name": "stdout",
     "output_type": "stream",
     "text": [
      "     Pclass   Age     Fare  Sex_male  Cabin_A16  Cabin_A20  Cabin_A23  \\\n",
      "1         1  38.0  71.2833         0          0          0          0   \n",
      "3         1  35.0  53.1000         0          0          0          0   \n",
      "6         1  54.0  51.8625         1          0          0          0   \n",
      "10        3   4.0  16.7000         0          0          0          0   \n",
      "11        1  58.0  26.5500         0          0          0          0   \n",
      "..      ...   ...      ...       ...        ...        ...        ...   \n",
      "871       1  47.0  52.5542         0          0          0          0   \n",
      "872       1  33.0   5.0000         1          0          0          0   \n",
      "879       1  56.0  83.1583         0          0          0          0   \n",
      "887       1  19.0  30.0000         0          0          0          0   \n",
      "889       1  26.0  30.0000         1          0          0          0   \n",
      "\n",
      "     Cabin_A24  Cabin_A26  Cabin_A31  ...  Cabin_E8  Cabin_F G63  Cabin_F G73  \\\n",
      "1            0          0          0  ...         0            0            0   \n",
      "3            0          0          0  ...         0            0            0   \n",
      "6            0          0          0  ...         0            0            0   \n",
      "10           0          0          0  ...         0            0            0   \n",
      "11           0          0          0  ...         0            0            0   \n",
      "..         ...        ...        ...  ...       ...          ...          ...   \n",
      "871          0          0          0  ...         0            0            0   \n",
      "872          0          0          0  ...         0            0            0   \n",
      "879          0          0          0  ...         0            0            0   \n",
      "887          0          0          0  ...         0            0            0   \n",
      "889          0          0          0  ...         0            0            0   \n",
      "\n",
      "     Cabin_F2  Cabin_F33  Cabin_F4  Cabin_G6  Cabin_T  Embarked_Q  Embarked_S  \n",
      "1           0          0         0         0        0           0           0  \n",
      "3           0          0         0         0        0           0           1  \n",
      "6           0          0         0         0        0           0           1  \n",
      "10          0          0         0         1        0           0           1  \n",
      "11          0          0         0         0        0           0           1  \n",
      "..        ...        ...       ...       ...      ...         ...         ...  \n",
      "871         0          0         0         0        0           0           1  \n",
      "872         0          0         0         0        0           0           1  \n",
      "879         0          0         0         0        0           0           0  \n",
      "887         0          0         0         0        0           0           1  \n",
      "889         0          0         0         0        0           0           0  \n",
      "\n",
      "[183 rows x 138 columns]\n"
     ]
    }
   ],
   "source": [
    "#part1\n",
    "titanic=pd.read_csv(\"C:/Users/acer/Desktop/HW2_9823033/titanic.csv\")\n",
    "titanic = titanic.dropna(how='any',axis=0) \n",
    "titanic.isnull().sum()\n",
    "titanic.drop(\"PassengerId\",axis=1,inplace=True)\n",
    "titanic.drop(\"Parch\",axis=1,inplace=True)\n",
    "titanic.drop(\"SibSp\",axis=1,inplace=True)\n",
    "titanic.drop(\"Ticket\",axis=1,inplace=True)\n",
    "titanic.drop(\"Name\",axis=1,inplace=True)\n",
    "titanic=pd.get_dummies(titanic,drop_first=True)\n",
    "\n",
    "x=titanic.drop('Survived',axis=1)\n",
    "Y=titanic['Survived']\n",
    "\n",
    "print(x)"
   ]
  },
  {
   "cell_type": "code",
   "execution_count": 3,
   "id": "ef926c5b",
   "metadata": {},
   "outputs": [
    {
     "name": "stdout",
     "output_type": "stream",
     "text": [
      "(128, 138) (55, 138)\n"
     ]
    }
   ],
   "source": [
    "#part2\n",
    "x_train,x_test,Y_train,Y_test=train_test_split(x,Y,test_size=0.3)\n",
    "print(x_train.shape,x_test.shape)"
   ]
  },
  {
   "cell_type": "code",
   "execution_count": 4,
   "id": "8e58d0de",
   "metadata": {},
   "outputs": [
    {
     "name": "stdout",
     "output_type": "stream",
     "text": [
      "model Accuracy: 70.91 %\n"
     ]
    },
    {
     "name": "stderr",
     "output_type": "stream",
     "text": [
      "C:\\Users\\acer\\anaconda3\\lib\\site-packages\\sklearn\\neural_network\\_multilayer_perceptron.py:614: ConvergenceWarning: Stochastic Optimizer: Maximum iterations (500) reached and the optimization hasn't converged yet.\n",
      "  warnings.warn(\n"
     ]
    }
   ],
   "source": [
    "#part3\n",
    "model = MLPClassifier(max_iter=500)\n",
    "model.fit(x_train,Y_train)\n",
    "accuracy=model.score(x_test, Y_test)\n",
    "print('model Accuracy:',(accuracy*100).round(2),'%')"
   ]
  },
  {
   "cell_type": "code",
   "execution_count": 5,
   "id": "b03ab447",
   "metadata": {},
   "outputs": [
    {
     "name": "stdout",
     "output_type": "stream",
     "text": [
      "model Accuracy: 76.36 %\n"
     ]
    }
   ],
   "source": [
    "#part4\n",
    "scaler = StandardScaler()\n",
    "x_train = scaler.fit_transform(x_train)\n",
    "x_test = scaler.fit_transform(x_test)\n",
    "\n",
    "#Y_train = scaler.fit_transform(Y_train)\n",
    "#Y_test = scaler.fit_transform(Y_test)\n",
    "\n",
    "classifier = MLPClassifier(max_iter=500)\n",
    "classifier.fit(x_train,Y_train)\n",
    "\n",
    "accuracy1=classifier.score(x_test, Y_test)\n",
    "print('model Accuracy:',(accuracy1*100).round(2),'%')\n",
    "\n",
    "#به اندازه حدودا 6 درصد دقت تست افزایش داشته"
   ]
  },
  {
   "cell_type": "code",
   "execution_count": 6,
   "id": "4d43e582",
   "metadata": {},
   "outputs": [
    {
     "data": {
      "text/plain": [
       "{'activation': 'tanh',\n",
       " 'alpha': 0.1,\n",
       " 'hidden_layer_sizes': 700,\n",
       " 'solver': 'adam'}"
      ]
     },
     "execution_count": 6,
     "metadata": {},
     "output_type": "execute_result"
    }
   ],
   "source": [
    "#part5\n",
    "params = {'solver': ['adam', 'sgd'], \n",
    "              'alpha': 10.0**-np.arange(1, 6),\n",
    "              'hidden_layer_sizes':np.arange(100,1300,300),\n",
    "              'activation' : ['identity' , 'tanh' , 'relu']\n",
    "             }\n",
    "\n",
    "grid_search = GridSearchCV(MLPClassifier(max_iter=1000), params, cv=10, n_jobs = -1,refit=True)\n",
    "grid_search.fit(x_train, Y_train)\n",
    "grid_search.best_params_"
   ]
  },
  {
   "cell_type": "code",
   "execution_count": 7,
   "id": "6e9ed4f7",
   "metadata": {},
   "outputs": [
    {
     "data": {
      "image/png": "[encoded data removed]",
      "text/plain": [
       "<Figure size 432x288 with 2 Axes>"
      ]
     },
     "metadata": {
      "needs_background": "light"
     },
     "output_type": "display_data"
    }
   ],
   "source": [
    "#part6\n",
    "def plot_confusion_matrix(y,y_predict):\n",
    " cm = confusion_matrix(y, y_predict)\n",
    " ax= plt.subplot()\n",
    " sns.heatmap(cm, cmap='coolwarm',annot=True,fmt = \" \", ax = ax);\n",
    " ax.set_xlabel('Predicted labels')\n",
    " ax.set_ylabel('True labels')\n",
    " ax.set_title('Confusion Matrix');\n",
    " ax.xaxis.set_ticklabels(['1','0']); ax.yaxis.set_ticklabels(['1','0'])\n",
    "\n",
    "pred_test=grid_search.predict(x_test)\n",
    "plot_confusion_matrix(Y_test,pred_test)"
   ]
  },
  {
   "cell_type": "code",
   "execution_count": 8,
   "id": "23625468",
   "metadata": {},
   "outputs": [
    {
     "name": "stdout",
     "output_type": "stream",
     "text": [
      "              precision    recall  f1-score   support\n",
      "\n",
      "           0       0.59      0.93      0.72        14\n",
      "           1       0.97      0.78      0.86        41\n",
      "\n",
      "    accuracy                           0.82        55\n",
      "   macro avg       0.78      0.85      0.79        55\n",
      "weighted avg       0.87      0.82      0.83        55\n",
      "\n"
     ]
    }
   ],
   "source": [
    "#part6\n",
    "target = ['0', '1']\n",
    "print(classification_report(Y_test, pred_test, target_names=target))"
   ]
  },
  {
   "cell_type": "code",
   "execution_count": null,
   "id": "c999e23a",
   "metadata": {},
   "outputs": [],
   "source": []
  }
 ],
 "metadata": {
  "kernelspec": {
   "display_name": "Python 3",
   "language": "python",
   "name": "python3"
  },
  "language_info": {
   "codemirror_mode": {
    "name": "ipython",
    "version": 3
   },
   "file_extension": ".py",
   "mimetype": "text/x-python",
   "name": "python",
   "nbconvert_exporter": "python",
   "pygments_lexer": "ipython3",
   "version": "3.8.8"
  }
 },
 "nbformat": 4,
 "nbformat_minor": 5
}
