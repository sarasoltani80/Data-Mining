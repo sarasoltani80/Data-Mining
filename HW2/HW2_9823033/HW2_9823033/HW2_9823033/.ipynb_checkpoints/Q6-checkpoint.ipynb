{
 "cells": [
  {
   "cell_type": "code",
   "execution_count": 1,
   "id": "96145353",
   "metadata": {},
   "outputs": [],
   "source": [
    "import pandas as pd\n",
    "import  numpy as np\n",
    "import matplotlib.pyplot as plt\n",
    "import seaborn as sns\n",
    "from sklearn.model_selection import LeaveOneOut\n",
    "from sklearn.metrics import accuracy_score\n",
    "from sklearn.svm import SVC\n",
    "from sklearn.metrics import confusion_matrix\n",
    "import array as arr"
   ]
  },
  {
   "cell_type": "code",
   "execution_count": 2,
   "id": "c77427b7",
   "metadata": {},
   "outputs": [
    {
     "name": "stdout",
     "output_type": "stream",
     "text": [
      "     Unnamed: 0  Class  Petal length  Sepal length  Sepal width  Petal width\n",
      "0             0      1            51            35           14            2\n",
      "1             1      1            49            30           14            2\n",
      "2             2      1            47            32           13            2\n",
      "3             3      1            46            31           15            2\n",
      "4             4      1            50            36           14            2\n",
      "..          ...    ...           ...           ...          ...          ...\n",
      "145         145      3            67            30           52           23\n",
      "146         146      3            63            25           50           19\n",
      "147         147      3            65            30           52           20\n",
      "148         148      3            62            34           54           23\n",
      "149         149      3            59            30           51           18\n",
      "\n",
      "[150 rows x 6 columns]\n"
     ]
    }
   ],
   "source": [
    "iris=pd.read_csv(\"C:/Users/acer/Desktop/HW2_9823033/Iris.csv\")\n",
    "print(iris)"
   ]
  },
  {
   "cell_type": "code",
   "execution_count": 3,
   "id": "f7bda058",
   "metadata": {},
   "outputs": [
    {
     "data": {
      "image/png": "[encoded data removed]",
      "text/plain": [
       "<Figure size 432x288 with 2 Axes>"
      ]
     },
     "metadata": {
      "needs_background": "light"
     },
     "output_type": "display_data"
    }
   ],
   "source": [
    "iris.drop(\"Unnamed: 0\",axis=1,inplace=True)\n",
    "\n",
    "def plot_confusion_matrix(y,y_predict):\n",
    " cm = confusion_matrix(y, y_predict)\n",
    " ax= plt.subplot()\n",
    " sns.heatmap(cm, cmap='coolwarm',annot=True,fmt = \" \", ax = ax);\n",
    " ax.set_xlabel('Predicted labels')\n",
    " ax.set_ylabel('True labels')\n",
    " ax.set_title('Confusion Matrix');\n",
    " ax.xaxis.set_ticklabels(['1','2','3']); ax.yaxis.set_ticklabels(['1','2','3'])\n",
    "\n",
    "\n",
    "x=iris.drop('Class',axis=1)\n",
    "Y=iris['Class']\n",
    "loo = LeaveOneOut()\n",
    "loo.get_n_splits(x)\n",
    "\n",
    "x=np.array(x)\n",
    "Y=np.array(Y)\n",
    "\n",
    "true_label=[]\n",
    "predicted_label=[]\n",
    "\n",
    "svclassifier = SVC(kernel='linear')\n",
    "\n",
    "for train_index, test_index in loo.split(x):\n",
    "    x_train, x_test = x[train_index], x[test_index]\n",
    "    Y_train, Y_test = Y[train_index], Y[test_index]\n",
    "    svclassifier.fit(x_train, Y_train)\n",
    "    Y_pred = svclassifier.predict(x_test)\n",
    "    true_label.extend(Y_test)\n",
    "    predicted_label.extend(Y_pred)\n",
    "\n",
    "plot_confusion_matrix(true_label,predicted_label)\n",
    "\n",
    "#روش کار با لیو وان اوت: هر سری یکی از رکوردها را به عنوان تست و مابقی رکوردها را به عنوان داده ی آموزشی در نظر گرفتیم و براساس این داده های آموزشی یک مدل ساختیم \n",
    "#و توسط این مدل برای آن رکورد تست پیش بینی انجام دادیم. از طرف دیگر در یک آرایه هرسری این مفقدار پیش بینی شده را اینسرت کردیم و در یک آرایه متناظر دیگر مقدار درست و \n",
    "#واقعی مربوط به هر رکورد تست را هر سری اینسرت میکنیم . درنهایت با توجه به این دو ارایه ساخته شده ماترس را ساخته و بررسی میکنیم\n",
    "\n",
    "\n",
    "\n",
    "#error rate=4/150=0.026\n",
    "#با توجه به اینکه فقط 4 تا از رکوردها را اشتباها پیش بینی کرده است و ارور ریت پایینی دارد ینی این مدل خوب عمل کرده است و دقت بالایی دارد. 50 تا از رکوردها کلاس 1 بوده \n",
    "#که همگی را درست پیش بینی کرده است. 50 تا از رکوردها نیز کلاس 2 بوده که فقط 3 تا از انها اشتباه پیش بینی شده و 50 تا از رکوردها نیز کلاس 3 بوده که فقط یکی اشتباها\n",
    "#پیش بینی شده"
   ]
  },
  {
   "cell_type": "code",
   "execution_count": 4,
   "id": "1e70494b",
   "metadata": {},
   "outputs": [
    {
     "name": "stdout",
     "output_type": "stream",
     "text": [
      "[0.04, 0.02666666666666667, 0.04666666666666667, 0.02666666666666667, 0.02666666666666667, 0.04666666666666667, 0.04, 0.05333333333333334, 0.06, 0.07333333333333333]\n"
     ]
    },
    {
     "data": {
      "image/png": "[encoded data removed]",
      "text/plain": [
       "<Figure size 432x288 with 1 Axes>"
      ]
     },
     "metadata": {
      "needs_background": "light"
     },
     "output_type": "display_data"
    }
   ],
   "source": [
    "#part1\n",
    "looo = LeaveOneOut()\n",
    "looo.get_n_splits(x)\n",
    "\n",
    "x=np.array(x)\n",
    "Y=np.array(Y)\n",
    "\n",
    "\n",
    "deg=np.arange(1,11)\n",
    "error=[]\n",
    "\n",
    "for i in np.arange(0,10):\n",
    "    true_label1=[]\n",
    "    predicted_label1=[]\n",
    "    error_rate=[]\n",
    "    svclassifier1 = SVC(kernel='poly', degree=deg[i])\n",
    "\n",
    "    for train_index, test_index in loo.split(x):\n",
    "        x_train, x_test = x[train_index], x[test_index]\n",
    "        Y_train, Y_test = Y[train_index], Y[test_index]\n",
    "        svclassifier1.fit(x_train, Y_train)\n",
    "        Y_pred = svclassifier1.predict(x_test)\n",
    "        true_label1.extend(Y_test)\n",
    "        predicted_label1.extend(Y_pred)\n",
    "        error_rate.append(1 - accuracy_score(Y_test, Y_pred))\n",
    "        \n",
    "    error.append(np.mean(error_rate)) \n",
    "\n",
    "print(error)\n",
    "\n",
    "\n",
    "plt.plot(deg,error)\n",
    "plt.xlabel('X-axis')\n",
    "plt.ylabel('Y-axis')\n",
    "plt.title(\"A simple line graph\")\n",
    "plt.show()\n",
    "\n",
    "#نمودار در نقاط 2 و 4 و 5 مقدار مینیمم دارد. که یعنی مدل اس وی ام با درجات 2 و 4 و 5 کمترین نرخ خطا را داشته و بهینه میباشد"
   ]
  },
  {
   "cell_type": "code",
   "execution_count": 5,
   "id": "915c66dd",
   "metadata": {},
   "outputs": [
    {
     "data": {
      "image/png": "[encoded data removed]",
      "text/plain": [
       "<Figure size 432x288 with 2 Axes>"
      ]
     },
     "metadata": {
      "needs_background": "light"
     },
     "output_type": "display_data"
    }
   ],
   "source": [
    "#part2\n",
    "\n",
    "loo1 = LeaveOneOut()\n",
    "loo1.get_n_splits(x)\n",
    "\n",
    "x=np.array(x)\n",
    "Y=np.array(Y)\n",
    "\n",
    "true_label2=[]\n",
    "predicted_label2=[]\n",
    "\n",
    "svclassifier2 = SVC(kernel='poly', degree=5)\n",
    "\n",
    "for train_index1, test_index1 in loo1.split(x):\n",
    "    x_train, x_test = x[train_index1], x[test_index1]\n",
    "    Y_train, Y_test = Y[train_index1], Y[test_index1]\n",
    "    svclassifier2.fit(x_train, Y_train)\n",
    "    pred_result = svclassifier2.predict(x_test)\n",
    "    true_label2.extend(Y_test)\n",
    "    predicted_label2.extend(pred_result)\n",
    "\n",
    "plot_confusion_matrix(true_label2,predicted_label2)\n",
    "\n",
    "#درجه بهینه 2 یا 4 یا 5 خواهد بود همان طور که در مرحله قبل مشاهده کردیم. که با هر کدام از این درجات مدل را پیاده سازی کرده و با توجه به ماتریس رسم شده 50 تا از رکوردها از کلاس یک بوده که \n",
    "#درست پیش بینی شده و 50 تا از رکورده ها از کلاس 2 بوده که 2 تای آنها اشتباها پیش بینی شده و 50 تای دیگر از کلاس 3 بوده که 2 تا از انها اشتباها پیش بینی شده\n",
    "#پس ارور ریت همچنان 4/150 است و با حالت قبلی یکسان خواهد بود"
   ]
  },
  {
   "cell_type": "code",
   "execution_count": null,
   "id": "d6b908f7",
   "metadata": {},
   "outputs": [],
   "source": []
  }
 ],
 "metadata": {
  "kernelspec": {
   "display_name": "Python 3",
   "language": "python",
   "name": "python3"
  },
  "language_info": {
   "codemirror_mode": {
    "name": "ipython",
    "version": 3
   },
   "file_extension": ".py",
   "mimetype": "text/x-python",
   "name": "python",
   "nbconvert_exporter": "python",
   "pygments_lexer": "ipython3",
   "version": "3.8.8"
  }
 },
 "nbformat": 4,
 "nbformat_minor": 5
}
