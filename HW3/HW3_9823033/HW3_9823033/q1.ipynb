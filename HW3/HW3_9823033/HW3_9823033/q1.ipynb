{
 "cells": [
  {
   "cell_type": "code",
   "execution_count": 1,
   "id": "81bf88df",
   "metadata": {},
   "outputs": [],
   "source": [
    "import pandas as pd\n",
    "from sklearn.decomposition import PCA\n",
    "from sklearn.cluster import KMeans\n",
    "import matplotlib.pyplot as plt\n",
    "from sklearn.preprocessing import StandardScaler\n",
    "from sklearn.datasets import make_blobs\n",
    "from sklearn.metrics import silhouette_samples, silhouette_score\n",
    "from sklearn.preprocessing import MinMaxScaler"
   ]
  },
  {
   "cell_type": "code",
   "execution_count": 2,
   "id": "55f25edb",
   "metadata": {},
   "outputs": [
    {
     "data": {
      "text/html": [
       "<div>\n",
       "<style scoped>\n",
       "    .dataframe tbody tr th:only-of-type {\n",
       "        vertical-align: middle;\n",
       "    }\n",
       "\n",
       "    .dataframe tbody tr th {\n",
       "        vertical-align: top;\n",
       "    }\n",
       "\n",
       "    .dataframe thead th {\n",
       "        text-align: right;\n",
       "    }\n",
       "</style>\n",
       "<table border=\"1\" class=\"dataframe\">\n",
       "  <thead>\n",
       "    <tr style=\"text-align: right;\">\n",
       "      <th></th>\n",
       "      <th>age</th>\n",
       "      <th>sex</th>\n",
       "      <th>pain type</th>\n",
       "      <th>resting blood pressure</th>\n",
       "      <th>cholestoral</th>\n",
       "      <th>fasting blood sugar</th>\n",
       "      <th>resting electrocardiographic results</th>\n",
       "      <th>maximum heart rate</th>\n",
       "      <th>exercise induced angina</th>\n",
       "      <th>oldpeak</th>\n",
       "      <th>slope of peak</th>\n",
       "      <th>num of major vessels</th>\n",
       "      <th>thal</th>\n",
       "      <th>heart disease</th>\n",
       "    </tr>\n",
       "  </thead>\n",
       "  <tbody>\n",
       "    <tr>\n",
       "      <th>0</th>\n",
       "      <td>70</td>\n",
       "      <td>1.0</td>\n",
       "      <td>four</td>\n",
       "      <td>130.0</td>\n",
       "      <td>322.0</td>\n",
       "      <td>0.0</td>\n",
       "      <td>2.0</td>\n",
       "      <td>109.0</td>\n",
       "      <td>0.0</td>\n",
       "      <td>2.4</td>\n",
       "      <td>2.0</td>\n",
       "      <td>3.0</td>\n",
       "      <td>normal</td>\n",
       "      <td>1</td>\n",
       "    </tr>\n",
       "    <tr>\n",
       "      <th>1</th>\n",
       "      <td>67</td>\n",
       "      <td>0.0</td>\n",
       "      <td>three</td>\n",
       "      <td>115.0</td>\n",
       "      <td>564.0</td>\n",
       "      <td>0.0</td>\n",
       "      <td>2.0</td>\n",
       "      <td>160.0</td>\n",
       "      <td>0.0</td>\n",
       "      <td>1.6</td>\n",
       "      <td>2.0</td>\n",
       "      <td>0.0</td>\n",
       "      <td>reversable defect</td>\n",
       "      <td>0</td>\n",
       "    </tr>\n",
       "    <tr>\n",
       "      <th>2</th>\n",
       "      <td>57</td>\n",
       "      <td>1.0</td>\n",
       "      <td>two</td>\n",
       "      <td>124.0</td>\n",
       "      <td>261.0</td>\n",
       "      <td>0.0</td>\n",
       "      <td>0.0</td>\n",
       "      <td>141.0</td>\n",
       "      <td>0.0</td>\n",
       "      <td>0.3</td>\n",
       "      <td>1.0</td>\n",
       "      <td>0.0</td>\n",
       "      <td>reversable defect</td>\n",
       "      <td>1</td>\n",
       "    </tr>\n",
       "    <tr>\n",
       "      <th>3</th>\n",
       "      <td>64</td>\n",
       "      <td>1.0</td>\n",
       "      <td>four</td>\n",
       "      <td>128.0</td>\n",
       "      <td>263.0</td>\n",
       "      <td>0.0</td>\n",
       "      <td>0.0</td>\n",
       "      <td>105.0</td>\n",
       "      <td>1.0</td>\n",
       "      <td>0.2</td>\n",
       "      <td>2.0</td>\n",
       "      <td>1.0</td>\n",
       "      <td>reversable defect</td>\n",
       "      <td>0</td>\n",
       "    </tr>\n",
       "    <tr>\n",
       "      <th>4</th>\n",
       "      <td>74</td>\n",
       "      <td>0.0</td>\n",
       "      <td>two</td>\n",
       "      <td>120.0</td>\n",
       "      <td>269.0</td>\n",
       "      <td>0.0</td>\n",
       "      <td>2.0</td>\n",
       "      <td>121.0</td>\n",
       "      <td>1.0</td>\n",
       "      <td>0.2</td>\n",
       "      <td>1.0</td>\n",
       "      <td>1.0</td>\n",
       "      <td>normal</td>\n",
       "      <td>0</td>\n",
       "    </tr>\n",
       "  </tbody>\n",
       "</table>\n",
       "</div>"
      ],
      "text/plain": [
       "   age  sex pain type  resting blood pressure  cholestoral  \\\n",
       "0   70  1.0      four                   130.0        322.0   \n",
       "1   67  0.0     three                   115.0        564.0   \n",
       "2   57  1.0       two                   124.0        261.0   \n",
       "3   64  1.0      four                   128.0        263.0   \n",
       "4   74  0.0       two                   120.0        269.0   \n",
       "\n",
       "   fasting blood sugar  resting electrocardiographic results  \\\n",
       "0                  0.0                                   2.0   \n",
       "1                  0.0                                   2.0   \n",
       "2                  0.0                                   0.0   \n",
       "3                  0.0                                   0.0   \n",
       "4                  0.0                                   2.0   \n",
       "\n",
       "   maximum heart rate  exercise induced angina  oldpeak  slope of peak  \\\n",
       "0               109.0                      0.0      2.4            2.0   \n",
       "1               160.0                      0.0      1.6            2.0   \n",
       "2               141.0                      0.0      0.3            1.0   \n",
       "3               105.0                      1.0      0.2            2.0   \n",
       "4               121.0                      1.0      0.2            1.0   \n",
       "\n",
       "   num of major vessels               thal  heart disease  \n",
       "0                   3.0             normal              1  \n",
       "1                   0.0  reversable defect              0  \n",
       "2                   0.0  reversable defect              1  \n",
       "3                   1.0  reversable defect              0  \n",
       "4                   1.0             normal              0  "
      ]
     },
     "execution_count": 2,
     "metadata": {},
     "output_type": "execute_result"
    }
   ],
   "source": [
    "#p1\n",
    "heart=pd.read_csv(\"C:/Users/acer/Desktop/DM_HW3/heart_diagnose.csv\")\n",
    "heart.head()"
   ]
  },
  {
   "cell_type": "code",
   "execution_count": 3,
   "id": "d15cd704",
   "metadata": {},
   "outputs": [
    {
     "name": "stdout",
     "output_type": "stream",
     "text": [
      "<class 'pandas.core.frame.DataFrame'>\n",
      "RangeIndex: 270 entries, 0 to 269\n",
      "Data columns (total 14 columns):\n",
      " #   Column                                Non-Null Count  Dtype  \n",
      "---  ------                                --------------  -----  \n",
      " 0   age                                   270 non-null    int64  \n",
      " 1   sex                                   270 non-null    float64\n",
      " 2   pain type                             270 non-null    object \n",
      " 3   resting blood pressure                270 non-null    float64\n",
      " 4   cholestoral                           270 non-null    float64\n",
      " 5   fasting blood sugar                   270 non-null    float64\n",
      " 6   resting electrocardiographic results  270 non-null    float64\n",
      " 7   maximum heart rate                    270 non-null    float64\n",
      " 8   exercise induced angina               270 non-null    float64\n",
      " 9   oldpeak                               270 non-null    float64\n",
      " 10  slope of peak                         270 non-null    float64\n",
      " 11  num of major vessels                  270 non-null    float64\n",
      " 12  thal                                  270 non-null    object \n",
      " 13  heart disease                         270 non-null    int64  \n",
      "dtypes: float64(10), int64(2), object(2)\n",
      "memory usage: 29.7+ KB\n"
     ]
    }
   ],
   "source": [
    "#p1\n",
    "heart.info()"
   ]
  },
  {
   "cell_type": "code",
   "execution_count": 4,
   "id": "f83474a5",
   "metadata": {},
   "outputs": [
    {
     "data": {
      "text/plain": [
       "age                                     0\n",
       "sex                                     0\n",
       "pain type                               0\n",
       "resting blood pressure                  0\n",
       "cholestoral                             0\n",
       "fasting blood sugar                     0\n",
       "resting electrocardiographic results    0\n",
       "maximum heart rate                      0\n",
       "exercise induced angina                 0\n",
       "oldpeak                                 0\n",
       "slope of peak                           0\n",
       "num of major vessels                    0\n",
       "thal                                    0\n",
       "heart disease                           0\n",
       "dtype: int64"
      ]
     },
     "execution_count": 4,
     "metadata": {},
     "output_type": "execute_result"
    }
   ],
   "source": [
    "#p1\n",
    "#heart = heart.dropna(how='any',axis=0) \n",
    "heart.isnull().sum()\n",
    "\n",
    "#no null records"
   ]
  },
  {
   "cell_type": "code",
   "execution_count": 5,
   "id": "6b452039",
   "metadata": {},
   "outputs": [
    {
     "data": {
      "text/plain": [
       "age                                       int64\n",
       "sex                                     float64\n",
       "pain type                                object\n",
       "resting blood pressure                  float64\n",
       "cholestoral                             float64\n",
       "fasting blood sugar                     float64\n",
       "resting electrocardiographic results    float64\n",
       "maximum heart rate                      float64\n",
       "exercise induced angina                 float64\n",
       "oldpeak                                 float64\n",
       "slope of peak                           float64\n",
       "num of major vessels                    float64\n",
       "thal                                     object\n",
       "heart disease                             int64\n",
       "dtype: object"
      ]
     },
     "execution_count": 5,
     "metadata": {},
     "output_type": "execute_result"
    }
   ],
   "source": [
    "#p1\n",
    "heart.dtypes"
   ]
  },
  {
   "cell_type": "code",
   "execution_count": 6,
   "id": "49115f74",
   "metadata": {},
   "outputs": [
    {
     "data": {
      "text/plain": [
       "(270, 19)"
      ]
     },
     "execution_count": 6,
     "metadata": {},
     "output_type": "execute_result"
    }
   ],
   "source": [
    "#p2\n",
    "heart=pd.get_dummies(heart,columns=['pain type','thal'])\n",
    "heart.shape"
   ]
  },
  {
   "cell_type": "code",
   "execution_count": 7,
   "id": "b04b5dc7",
   "metadata": {},
   "outputs": [
    {
     "data": {
      "text/plain": [
       "(270,)"
      ]
     },
     "execution_count": 7,
     "metadata": {},
     "output_type": "execute_result"
    }
   ],
   "source": [
    "#p3\n",
    "x=heart.drop('heart disease',axis=1)\n",
    "Y=heart['heart disease']\n",
    "Y.shape"
   ]
  },
  {
   "cell_type": "code",
   "execution_count": 8,
   "id": "e8617d82",
   "metadata": {},
   "outputs": [
    {
     "data": {
      "text/plain": [
       "0    150\n",
       "1    120\n",
       "Name: heart disease, dtype: int64"
      ]
     },
     "execution_count": 8,
     "metadata": {},
     "output_type": "execute_result"
    }
   ],
   "source": [
    "#p3\n",
    "Y.value_counts()"
   ]
  },
  {
   "cell_type": "code",
   "execution_count": 9,
   "id": "ace62a4c",
   "metadata": {},
   "outputs": [
    {
     "data": {
      "text/plain": [
       "(270, 18)"
      ]
     },
     "execution_count": 9,
     "metadata": {},
     "output_type": "execute_result"
    }
   ],
   "source": [
    "#p3\n",
    "x_scaled = StandardScaler().fit_transform(x)\n",
    "x_scaled.shape"
   ]
  },
  {
   "cell_type": "code",
   "execution_count": 10,
   "id": "c9411429",
   "metadata": {},
   "outputs": [
    {
     "name": "stdout",
     "output_type": "stream",
     "text": [
      "Shape before PCA:  (270, 18)\n",
      "Shape after PCA:  (270, 2)\n"
     ]
    },
    {
     "data": {
      "text/html": [
       "<div>\n",
       "<style scoped>\n",
       "    .dataframe tbody tr th:only-of-type {\n",
       "        vertical-align: middle;\n",
       "    }\n",
       "\n",
       "    .dataframe tbody tr th {\n",
       "        vertical-align: top;\n",
       "    }\n",
       "\n",
       "    .dataframe thead th {\n",
       "        text-align: right;\n",
       "    }\n",
       "</style>\n",
       "<table border=\"1\" class=\"dataframe\">\n",
       "  <thead>\n",
       "    <tr style=\"text-align: right;\">\n",
       "      <th></th>\n",
       "      <th>PC1</th>\n",
       "      <th>PC2</th>\n",
       "    </tr>\n",
       "  </thead>\n",
       "  <tbody>\n",
       "    <tr>\n",
       "      <th>0</th>\n",
       "      <td>2.100740</td>\n",
       "      <td>2.210936</td>\n",
       "    </tr>\n",
       "    <tr>\n",
       "      <th>1</th>\n",
       "      <td>0.566297</td>\n",
       "      <td>2.764783</td>\n",
       "    </tr>\n",
       "    <tr>\n",
       "      <th>2</th>\n",
       "      <td>-0.609867</td>\n",
       "      <td>-1.797719</td>\n",
       "    </tr>\n",
       "    <tr>\n",
       "      <th>3</th>\n",
       "      <td>2.674779</td>\n",
       "      <td>-0.894244</td>\n",
       "    </tr>\n",
       "    <tr>\n",
       "      <th>4</th>\n",
       "      <td>-0.682202</td>\n",
       "      <td>1.514927</td>\n",
       "    </tr>\n",
       "    <tr>\n",
       "      <th>...</th>\n",
       "      <td>...</td>\n",
       "      <td>...</td>\n",
       "    </tr>\n",
       "    <tr>\n",
       "      <th>265</th>\n",
       "      <td>-0.440203</td>\n",
       "      <td>-0.234783</td>\n",
       "    </tr>\n",
       "    <tr>\n",
       "      <th>266</th>\n",
       "      <td>-1.441161</td>\n",
       "      <td>-2.693210</td>\n",
       "    </tr>\n",
       "    <tr>\n",
       "      <th>267</th>\n",
       "      <td>-1.449240</td>\n",
       "      <td>1.433410</td>\n",
       "    </tr>\n",
       "    <tr>\n",
       "      <th>268</th>\n",
       "      <td>0.729541</td>\n",
       "      <td>-1.167361</td>\n",
       "    </tr>\n",
       "    <tr>\n",
       "      <th>269</th>\n",
       "      <td>2.621970</td>\n",
       "      <td>2.102967</td>\n",
       "    </tr>\n",
       "  </tbody>\n",
       "</table>\n",
       "<p>270 rows × 2 columns</p>\n",
       "</div>"
      ],
      "text/plain": [
       "          PC1       PC2\n",
       "0    2.100740  2.210936\n",
       "1    0.566297  2.764783\n",
       "2   -0.609867 -1.797719\n",
       "3    2.674779 -0.894244\n",
       "4   -0.682202  1.514927\n",
       "..        ...       ...\n",
       "265 -0.440203 -0.234783\n",
       "266 -1.441161 -2.693210\n",
       "267 -1.449240  1.433410\n",
       "268  0.729541 -1.167361\n",
       "269  2.621970  2.102967\n",
       "\n",
       "[270 rows x 2 columns]"
      ]
     },
     "execution_count": 10,
     "metadata": {},
     "output_type": "execute_result"
    }
   ],
   "source": [
    "#p3\n",
    "pca = PCA(n_components=2)\n",
    "pca_features = pca.fit_transform(x_scaled)\n",
    "print('Shape before PCA: ', x_scaled.shape)\n",
    "print('Shape after PCA: ', pca_features.shape)\n",
    "\n",
    "pca_df = pd.DataFrame(\n",
    "    data=pca_features, \n",
    "    columns=['PC1', 'PC2'])\n",
    "\n",
    "pca_df"
   ]
  },
  {
   "cell_type": "code",
   "execution_count": 11,
   "id": "eaf63241",
   "metadata": {},
   "outputs": [
    {
     "data": {
      "text/html": [
       "<div>\n",
       "<style scoped>\n",
       "    .dataframe tbody tr th:only-of-type {\n",
       "        vertical-align: middle;\n",
       "    }\n",
       "\n",
       "    .dataframe tbody tr th {\n",
       "        vertical-align: top;\n",
       "    }\n",
       "\n",
       "    .dataframe thead th {\n",
       "        text-align: right;\n",
       "    }\n",
       "</style>\n",
       "<table border=\"1\" class=\"dataframe\">\n",
       "  <thead>\n",
       "    <tr style=\"text-align: right;\">\n",
       "      <th></th>\n",
       "      <th>PC1</th>\n",
       "      <th>PC2</th>\n",
       "      <th>target</th>\n",
       "    </tr>\n",
       "  </thead>\n",
       "  <tbody>\n",
       "    <tr>\n",
       "      <th>0</th>\n",
       "      <td>2.100740</td>\n",
       "      <td>2.210936</td>\n",
       "      <td>1</td>\n",
       "    </tr>\n",
       "    <tr>\n",
       "      <th>1</th>\n",
       "      <td>0.566297</td>\n",
       "      <td>2.764783</td>\n",
       "      <td>0</td>\n",
       "    </tr>\n",
       "    <tr>\n",
       "      <th>2</th>\n",
       "      <td>-0.609867</td>\n",
       "      <td>-1.797719</td>\n",
       "      <td>1</td>\n",
       "    </tr>\n",
       "    <tr>\n",
       "      <th>3</th>\n",
       "      <td>2.674779</td>\n",
       "      <td>-0.894244</td>\n",
       "      <td>0</td>\n",
       "    </tr>\n",
       "    <tr>\n",
       "      <th>4</th>\n",
       "      <td>-0.682202</td>\n",
       "      <td>1.514927</td>\n",
       "      <td>0</td>\n",
       "    </tr>\n",
       "    <tr>\n",
       "      <th>...</th>\n",
       "      <td>...</td>\n",
       "      <td>...</td>\n",
       "      <td>...</td>\n",
       "    </tr>\n",
       "    <tr>\n",
       "      <th>265</th>\n",
       "      <td>-0.440203</td>\n",
       "      <td>-0.234783</td>\n",
       "      <td>0</td>\n",
       "    </tr>\n",
       "    <tr>\n",
       "      <th>266</th>\n",
       "      <td>-1.441161</td>\n",
       "      <td>-2.693210</td>\n",
       "      <td>0</td>\n",
       "    </tr>\n",
       "    <tr>\n",
       "      <th>267</th>\n",
       "      <td>-1.449240</td>\n",
       "      <td>1.433410</td>\n",
       "      <td>0</td>\n",
       "    </tr>\n",
       "    <tr>\n",
       "      <th>268</th>\n",
       "      <td>0.729541</td>\n",
       "      <td>-1.167361</td>\n",
       "      <td>0</td>\n",
       "    </tr>\n",
       "    <tr>\n",
       "      <th>269</th>\n",
       "      <td>2.621970</td>\n",
       "      <td>2.102967</td>\n",
       "      <td>1</td>\n",
       "    </tr>\n",
       "  </tbody>\n",
       "</table>\n",
       "<p>270 rows × 3 columns</p>\n",
       "</div>"
      ],
      "text/plain": [
       "          PC1       PC2 target\n",
       "0    2.100740  2.210936      1\n",
       "1    0.566297  2.764783      0\n",
       "2   -0.609867 -1.797719      1\n",
       "3    2.674779 -0.894244      0\n",
       "4   -0.682202  1.514927      0\n",
       "..        ...       ...    ...\n",
       "265 -0.440203 -0.234783      0\n",
       "266 -1.441161 -2.693210      0\n",
       "267 -1.449240  1.433410      0\n",
       "268  0.729541 -1.167361      0\n",
       "269  2.621970  2.102967      1\n",
       "\n",
       "[270 rows x 3 columns]"
      ]
     },
     "execution_count": 11,
     "metadata": {},
     "output_type": "execute_result"
    }
   ],
   "source": [
    "#p3\n",
    "target_names = {\n",
    "    0:'0',\n",
    "    1:'1', \n",
    "}\n",
    " \n",
    "pca_df['target'] = Y\n",
    "pca_df['target'] = pca_df['target'].map(target_names)\n",
    "\n",
    "pca_df"
   ]
  },
  {
   "cell_type": "code",
   "execution_count": 12,
   "id": "f906415d",
   "metadata": {},
   "outputs": [
    {
     "data": {
      "text/html": [
       "<div>\n",
       "<style scoped>\n",
       "    .dataframe tbody tr th:only-of-type {\n",
       "        vertical-align: middle;\n",
       "    }\n",
       "\n",
       "    .dataframe tbody tr th {\n",
       "        vertical-align: top;\n",
       "    }\n",
       "\n",
       "    .dataframe thead th {\n",
       "        text-align: right;\n",
       "    }\n",
       "</style>\n",
       "<table border=\"1\" class=\"dataframe\">\n",
       "  <thead>\n",
       "    <tr style=\"text-align: right;\">\n",
       "      <th></th>\n",
       "      <th>PC1</th>\n",
       "      <th>PC2</th>\n",
       "    </tr>\n",
       "  </thead>\n",
       "  <tbody>\n",
       "    <tr>\n",
       "      <th>count</th>\n",
       "      <td>2.700000e+02</td>\n",
       "      <td>2.700000e+02</td>\n",
       "    </tr>\n",
       "    <tr>\n",
       "      <th>mean</th>\n",
       "      <td>4.769847e-17</td>\n",
       "      <td>-5.427757e-17</td>\n",
       "    </tr>\n",
       "    <tr>\n",
       "      <th>std</th>\n",
       "      <td>1.959093e+00</td>\n",
       "      <td>1.340891e+00</td>\n",
       "    </tr>\n",
       "    <tr>\n",
       "      <th>min</th>\n",
       "      <td>-3.608099e+00</td>\n",
       "      <td>-3.088784e+00</td>\n",
       "    </tr>\n",
       "    <tr>\n",
       "      <th>25%</th>\n",
       "      <td>-1.653780e+00</td>\n",
       "      <td>-9.440792e-01</td>\n",
       "    </tr>\n",
       "    <tr>\n",
       "      <th>50%</th>\n",
       "      <td>-1.807503e-01</td>\n",
       "      <td>-9.105576e-02</td>\n",
       "    </tr>\n",
       "    <tr>\n",
       "      <th>75%</th>\n",
       "      <td>1.586722e+00</td>\n",
       "      <td>1.026350e+00</td>\n",
       "    </tr>\n",
       "    <tr>\n",
       "      <th>max</th>\n",
       "      <td>4.447956e+00</td>\n",
       "      <td>3.804040e+00</td>\n",
       "    </tr>\n",
       "  </tbody>\n",
       "</table>\n",
       "</div>"
      ],
      "text/plain": [
       "                PC1           PC2\n",
       "count  2.700000e+02  2.700000e+02\n",
       "mean   4.769847e-17 -5.427757e-17\n",
       "std    1.959093e+00  1.340891e+00\n",
       "min   -3.608099e+00 -3.088784e+00\n",
       "25%   -1.653780e+00 -9.440792e-01\n",
       "50%   -1.807503e-01 -9.105576e-02\n",
       "75%    1.586722e+00  1.026350e+00\n",
       "max    4.447956e+00  3.804040e+00"
      ]
     },
     "execution_count": 12,
     "metadata": {},
     "output_type": "execute_result"
    }
   ],
   "source": [
    "pca_df.describe()"
   ]
  },
  {
   "cell_type": "code",
   "execution_count": 13,
   "id": "7a91f6e1",
   "metadata": {},
   "outputs": [
    {
     "name": "stdout",
     "output_type": "stream",
     "text": [
      "1\n",
      "2\n",
      "3\n",
      "4\n",
      "5\n",
      "6\n",
      "7\n",
      "8\n",
      "9\n",
      "10\n",
      "11\n",
      "12\n",
      "13\n",
      "14\n",
      "15\n",
      "16\n",
      "17\n",
      "18\n",
      "19\n",
      "20\n"
     ]
    }
   ],
   "source": [
    "#p4\n",
    "inertias = []\n",
    "#data = list(zip(heart))\n",
    "\n",
    "for i in range(1,21):\n",
    "    print(i)\n",
    "    kmeans = KMeans(n_clusters=i)\n",
    "    kmeans.fit(pca_df)\n",
    "    inertias.append(kmeans.inertia_)"
   ]
  },
  {
   "cell_type": "markdown",
   "id": "f4009992",
   "metadata": {},
   "source": [
    "k=5 is elbow point.it seems it is better than others."
   ]
  },
  {
   "cell_type": "code",
   "execution_count": 14,
   "id": "5c8f73a4",
   "metadata": {},
   "outputs": [
    {
     "data": {
      "image/png": "[encoded data removed]",
      "text/plain": [
       "<Figure size 432x288 with 1 Axes>"
      ]
     },
     "metadata": {
      "needs_background": "light"
     },
     "output_type": "display_data"
    }
   ],
   "source": [
    "#p4\n",
    "plt.plot(range(1,21), inertias, marker='o')\n",
    "plt.title('Elbow method')\n",
    "plt.xlabel('Number of clusters')\n",
    "plt.ylabel('Inertia')\n",
    "plt.show()"
   ]
  },
  {
   "cell_type": "code",
   "execution_count": 15,
   "id": "b17934d9",
   "metadata": {},
   "outputs": [
    {
     "data": {
      "image/png": "[encoded data removed]",
      "text/plain": [
       "<Figure size 432x288 with 1 Axes>"
      ]
     },
     "metadata": {
      "needs_background": "light"
     },
     "output_type": "display_data"
    }
   ],
   "source": [
    "#p4\n",
    "\n",
    "# calculate k using python, with the elbow method\n",
    "inertia = []\n",
    "\n",
    "# define our possible k values\n",
    "possible_K_values = [i for i in range(2,21)]\n",
    "\n",
    "# we start with 2, as we can not have 0 clusters in k means, and 1 cluster is just a dataset\n",
    "\n",
    "# iterate through each of our values\n",
    "for each_value in possible_K_values:\n",
    "    \n",
    "    # iterate through, taking each value from \n",
    "    model = KMeans(n_clusters=each_value, init='k-means++',random_state=32)\n",
    "    \n",
    "    # fit it on YOUR dataframe\n",
    "    model.fit(pca_df)\n",
    "    \n",
    "    # append the inertia to our array\n",
    "    inertia.append(model.inertia_)\n",
    "\n",
    "plt.plot(possible_K_values, inertia)\n",
    "plt.title('The Elbow Method')\n",
    "\n",
    "plt.xlabel('Number of Clusters')\n",
    "\n",
    "plt.ylabel('Inertia')\n",
    "\n",
    "plt.show()\n"
   ]
  },
  {
   "cell_type": "code",
   "execution_count": 16,
   "id": "469bfc3c",
   "metadata": {},
   "outputs": [
    {
     "name": "stdout",
     "output_type": "stream",
     "text": [
      "2\n",
      "0.44322275894821306\n",
      "3\n",
      "0.381189109635034\n",
      "4\n",
      "0.36266219321639037\n",
      "5\n",
      "0.35527259516408066\n",
      "6\n",
      "0.3630971484549147\n",
      "7\n",
      "0.3466403694270262\n",
      "8\n",
      "0.3632073504112235\n",
      "9\n",
      "0.36490369902833536\n",
      "10\n",
      "0.3679424630882203\n",
      "11\n",
      "0.3465015749400662\n",
      "12\n",
      "0.3317087154023362\n",
      "13\n",
      "0.34198918323314137\n",
      "14\n",
      "0.3490097428809508\n",
      "15\n",
      "0.3478390492687497\n",
      "16\n",
      "0.33374225383749734\n",
      "17\n",
      "0.35644019625775186\n",
      "18\n",
      "0.3321569745782017\n",
      "19\n",
      "0.36552784355778883\n",
      "20\n",
      "0.3604832266756166\n"
     ]
    }
   ],
   "source": [
    "#p5\n",
    "silhouettes=[]\n",
    "possible_K_values = [i for i in range(2,21)]\n",
    "\n",
    "for each_value in possible_K_values:\n",
    "     \n",
    "    model = KMeans(n_clusters=each_value, init='k-means++',random_state=32)\n",
    "    \n",
    "    model.fit(pca_df)\n",
    "\n",
    "    silhouette_score_average = silhouette_score(pca_df, model.predict(pca_df))\n",
    "    print(each_value)\n",
    "    print(silhouette_score_average)\n",
    "    silhouettes.append(silhouette_score_average)"
   ]
  },
  {
   "cell_type": "markdown",
   "id": "ade4b749",
   "metadata": {},
   "source": [
    "k=2 has bigger silhoute. so it is best one"
   ]
  },
  {
   "cell_type": "code",
   "execution_count": 17,
   "id": "a884d97b",
   "metadata": {},
   "outputs": [
    {
     "data": {
      "image/png": "[encoded data removed]",
      "text/plain": [
       "<Figure size 432x288 with 1 Axes>"
      ]
     },
     "metadata": {
      "needs_background": "light"
     },
     "output_type": "display_data"
    }
   ],
   "source": [
    "#p5\n",
    "plt.bar(possible_K_values, silhouettes, color ='maroon')\n",
    " \n",
    "plt.xlabel(\"k values\")\n",
    "plt.ylabel(\"silhouettes\")\n",
    "plt.title(\"silhouettes per each k\")\n",
    "plt.show()"
   ]
  },
  {
   "cell_type": "markdown",
   "id": "227789aa",
   "metadata": {},
   "source": [
    "k=2 is better than others because it has number of negative values less than other values of k."
   ]
  },
  {
   "cell_type": "code",
   "execution_count": 18,
   "id": "eabbf1b4",
   "metadata": {},
   "outputs": [
    {
     "name": "stdout",
     "output_type": "stream",
     "text": [
      " This Many Clusters: 2 | Number of Negative Values: 1\n",
      " This Many Clusters: 3 | Number of Negative Values: 2\n",
      " This Many Clusters: 4 | Number of Negative Values: 2\n",
      " This Many Clusters: 5 | Number of Negative Values: 10\n",
      " This Many Clusters: 6 | Number of Negative Values: 7\n",
      " This Many Clusters: 7 | Number of Negative Values: 6\n",
      " This Many Clusters: 8 | Number of Negative Values: 5\n",
      " This Many Clusters: 9 | Number of Negative Values: 8\n",
      " This Many Clusters: 10 | Number of Negative Values: 5\n",
      " This Many Clusters: 11 | Number of Negative Values: 9\n",
      " This Many Clusters: 12 | Number of Negative Values: 10\n",
      " This Many Clusters: 13 | Number of Negative Values: 8\n",
      " This Many Clusters: 14 | Number of Negative Values: 5\n",
      " This Many Clusters: 15 | Number of Negative Values: 5\n",
      " This Many Clusters: 16 | Number of Negative Values: 12\n",
      " This Many Clusters: 17 | Number of Negative Values: 6\n",
      " This Many Clusters: 18 | Number of Negative Values: 16\n",
      " This Many Clusters: 19 | Number of Negative Values: 6\n",
      " This Many Clusters: 20 | Number of Negative Values: 7\n"
     ]
    }
   ],
   "source": [
    "#p5\n",
    "bad_k_values = {}\n",
    "possible_K_values = [i for i in range(2,21)]\n",
    "\n",
    "\n",
    "for each_value in possible_K_values:\n",
    "\n",
    "    model = KMeans(n_clusters=each_value, init='k-means++',random_state=32)\n",
    "    \n",
    "    model.fit(pca_df)\n",
    "    \n",
    "    silhouette_score_individual = silhouette_samples(pca_df, model.predict(pca_df))\n",
    "    for each_silhouette in silhouette_score_individual:\n",
    "        \n",
    "        if each_silhouette < 0:\n",
    "            \n",
    "            if each_value not in bad_k_values:\n",
    "                bad_k_values[each_value] = 1\n",
    "            \n",
    "            else:\n",
    "                bad_k_values[each_value] += 1\n",
    "    \n",
    "                \n",
    "\n",
    "\n",
    "for key, val in bad_k_values.items():\n",
    "    print(f' This Many Clusters: {key} | Number of Negative Values: {val}')\n",
    "\n"
   ]
  },
  {
   "cell_type": "code",
   "execution_count": 19,
   "id": "29bfd45c",
   "metadata": {},
   "outputs": [
    {
     "data": {
      "image/png": "[encoded data removed]",
      "text/plain": [
       "<Figure size 432x288 with 1 Axes>"
      ]
     },
     "metadata": {
      "needs_background": "light"
     },
     "output_type": "display_data"
    }
   ],
   "source": [
    "#p6\n",
    "kmeans_k5 = KMeans(n_clusters=5)\n",
    "kmeans_k5.fit(pca_df)\n",
    "\n",
    "plt.scatter(pca_df[\"PC1\"], pca_df[\"PC2\"], c=kmeans_k5.labels_)\n",
    "plt.show()"
   ]
  },
  {
   "cell_type": "code",
   "execution_count": 20,
   "id": "93146b75",
   "metadata": {},
   "outputs": [
    {
     "data": {
      "image/png": "[encoded data removed]",
      "text/plain": [
       "<Figure size 432x288 with 1 Axes>"
      ]
     },
     "metadata": {
      "needs_background": "light"
     },
     "output_type": "display_data"
    }
   ],
   "source": [
    "#p6\n",
    "kmeans_k2 = KMeans(n_clusters=2)\n",
    "kmeans_k2.fit(pca_df)\n",
    "\n",
    "plt.scatter(pca_df[\"PC1\"], pca_df[\"PC2\"], c=kmeans_k2.labels_)\n",
    "plt.show()"
   ]
  },
  {
   "cell_type": "code",
   "execution_count": 21,
   "id": "71a6962d",
   "metadata": {},
   "outputs": [
    {
     "data": {
      "text/plain": [
       "array([[-1.50670187,  0.20955329,  0.11409396],\n",
       "       [ 1.85536016, -0.25804496,  0.85123967]])"
      ]
     },
     "execution_count": 21,
     "metadata": {},
     "output_type": "execute_result"
    }
   ],
   "source": [
    "#p7\n",
    "clusters=kmeans_k2.labels_\n",
    "cluster1_k2=pca_df.loc[clusters==0]\n",
    "cluster2_k2=pca_df.loc[clusters==1]\n",
    "kmeans_k2.cluster_centers_"
   ]
  },
  {
   "cell_type": "code",
   "execution_count": 22,
   "id": "677b3e63",
   "metadata": {},
   "outputs": [
    {
     "data": {
      "text/html": [
       "<div>\n",
       "<style scoped>\n",
       "    .dataframe tbody tr th:only-of-type {\n",
       "        vertical-align: middle;\n",
       "    }\n",
       "\n",
       "    .dataframe tbody tr th {\n",
       "        vertical-align: top;\n",
       "    }\n",
       "\n",
       "    .dataframe thead th {\n",
       "        text-align: right;\n",
       "    }\n",
       "</style>\n",
       "<table border=\"1\" class=\"dataframe\">\n",
       "  <thead>\n",
       "    <tr style=\"text-align: right;\">\n",
       "      <th></th>\n",
       "      <th>PC1</th>\n",
       "      <th>PC2</th>\n",
       "    </tr>\n",
       "  </thead>\n",
       "  <tbody>\n",
       "    <tr>\n",
       "      <th>count</th>\n",
       "      <td>149.000000</td>\n",
       "      <td>149.000000</td>\n",
       "    </tr>\n",
       "    <tr>\n",
       "      <th>mean</th>\n",
       "      <td>-1.506702</td>\n",
       "      <td>0.209553</td>\n",
       "    </tr>\n",
       "    <tr>\n",
       "      <th>std</th>\n",
       "      <td>0.968679</td>\n",
       "      <td>1.331825</td>\n",
       "    </tr>\n",
       "    <tr>\n",
       "      <th>min</th>\n",
       "      <td>-3.608099</td>\n",
       "      <td>-3.088784</td>\n",
       "    </tr>\n",
       "    <tr>\n",
       "      <th>25%</th>\n",
       "      <td>-2.338345</td>\n",
       "      <td>-0.840951</td>\n",
       "    </tr>\n",
       "    <tr>\n",
       "      <th>50%</th>\n",
       "      <td>-1.515380</td>\n",
       "      <td>0.154664</td>\n",
       "    </tr>\n",
       "    <tr>\n",
       "      <th>75%</th>\n",
       "      <td>-0.682202</td>\n",
       "      <td>1.162897</td>\n",
       "    </tr>\n",
       "    <tr>\n",
       "      <th>max</th>\n",
       "      <td>0.566297</td>\n",
       "      <td>3.804040</td>\n",
       "    </tr>\n",
       "  </tbody>\n",
       "</table>\n",
       "</div>"
      ],
      "text/plain": [
       "              PC1         PC2\n",
       "count  149.000000  149.000000\n",
       "mean    -1.506702    0.209553\n",
       "std      0.968679    1.331825\n",
       "min     -3.608099   -3.088784\n",
       "25%     -2.338345   -0.840951\n",
       "50%     -1.515380    0.154664\n",
       "75%     -0.682202    1.162897\n",
       "max      0.566297    3.804040"
      ]
     },
     "execution_count": 22,
     "metadata": {},
     "output_type": "execute_result"
    }
   ],
   "source": [
    "#p7\n",
    "cluster1_k2.describe()"
   ]
  },
  {
   "cell_type": "code",
   "execution_count": 23,
   "id": "2bf05544",
   "metadata": {},
   "outputs": [
    {
     "data": {
      "text/html": [
       "<div>\n",
       "<style scoped>\n",
       "    .dataframe tbody tr th:only-of-type {\n",
       "        vertical-align: middle;\n",
       "    }\n",
       "\n",
       "    .dataframe tbody tr th {\n",
       "        vertical-align: top;\n",
       "    }\n",
       "\n",
       "    .dataframe thead th {\n",
       "        text-align: right;\n",
       "    }\n",
       "</style>\n",
       "<table border=\"1\" class=\"dataframe\">\n",
       "  <thead>\n",
       "    <tr style=\"text-align: right;\">\n",
       "      <th></th>\n",
       "      <th>PC1</th>\n",
       "      <th>PC2</th>\n",
       "    </tr>\n",
       "  </thead>\n",
       "  <tbody>\n",
       "    <tr>\n",
       "      <th>count</th>\n",
       "      <td>121.000000</td>\n",
       "      <td>121.000000</td>\n",
       "    </tr>\n",
       "    <tr>\n",
       "      <th>mean</th>\n",
       "      <td>1.855360</td>\n",
       "      <td>-0.258045</td>\n",
       "    </tr>\n",
       "    <tr>\n",
       "      <th>std</th>\n",
       "      <td>1.075415</td>\n",
       "      <td>1.311941</td>\n",
       "    </tr>\n",
       "    <tr>\n",
       "      <th>min</th>\n",
       "      <td>-0.196809</td>\n",
       "      <td>-2.945274</td>\n",
       "    </tr>\n",
       "    <tr>\n",
       "      <th>25%</th>\n",
       "      <td>0.955615</td>\n",
       "      <td>-1.110800</td>\n",
       "    </tr>\n",
       "    <tr>\n",
       "      <th>50%</th>\n",
       "      <td>1.848576</td>\n",
       "      <td>-0.351583</td>\n",
       "    </tr>\n",
       "    <tr>\n",
       "      <th>75%</th>\n",
       "      <td>2.636447</td>\n",
       "      <td>0.702155</td>\n",
       "    </tr>\n",
       "    <tr>\n",
       "      <th>max</th>\n",
       "      <td>4.447956</td>\n",
       "      <td>2.878619</td>\n",
       "    </tr>\n",
       "  </tbody>\n",
       "</table>\n",
       "</div>"
      ],
      "text/plain": [
       "              PC1         PC2\n",
       "count  121.000000  121.000000\n",
       "mean     1.855360   -0.258045\n",
       "std      1.075415    1.311941\n",
       "min     -0.196809   -2.945274\n",
       "25%      0.955615   -1.110800\n",
       "50%      1.848576   -0.351583\n",
       "75%      2.636447    0.702155\n",
       "max      4.447956    2.878619"
      ]
     },
     "execution_count": 23,
     "metadata": {},
     "output_type": "execute_result"
    }
   ],
   "source": [
    "cluster2_k2.describe()"
   ]
  },
  {
   "cell_type": "code",
   "execution_count": 24,
   "id": "2106b41a",
   "metadata": {},
   "outputs": [
    {
     "data": {
      "text/plain": [
       "array([[-2.21525333, -0.67969082,  0.04545455],\n",
       "       [ 1.9676794 ,  1.18760353,  0.87804878],\n",
       "       [ 0.40990168, -1.33347106,  0.56      ],\n",
       "       [-1.01203231,  1.34966392,  0.17142857],\n",
       "       [ 2.69486144, -0.73569935,  0.95348837]])"
      ]
     },
     "execution_count": 24,
     "metadata": {},
     "output_type": "execute_result"
    }
   ],
   "source": [
    "clusters=kmeans_k5.labels_\n",
    "cluster1_k5=pca_df.loc[clusters==0]\n",
    "cluster2_k5=pca_df.loc[clusters==1]\n",
    "cluster3_k5=pca_df.loc[clusters==2]\n",
    "cluster4_k5=pca_df.loc[clusters==3]\n",
    "cluster5_k5=pca_df.loc[clusters==4]\n",
    "kmeans_k5.cluster_centers_"
   ]
  },
  {
   "cell_type": "code",
   "execution_count": 25,
   "id": "29b1272b",
   "metadata": {},
   "outputs": [
    {
     "data": {
      "text/html": [
       "<div>\n",
       "<style scoped>\n",
       "    .dataframe tbody tr th:only-of-type {\n",
       "        vertical-align: middle;\n",
       "    }\n",
       "\n",
       "    .dataframe tbody tr th {\n",
       "        vertical-align: top;\n",
       "    }\n",
       "\n",
       "    .dataframe thead th {\n",
       "        text-align: right;\n",
       "    }\n",
       "</style>\n",
       "<table border=\"1\" class=\"dataframe\">\n",
       "  <thead>\n",
       "    <tr style=\"text-align: right;\">\n",
       "      <th></th>\n",
       "      <th>PC1</th>\n",
       "      <th>PC2</th>\n",
       "    </tr>\n",
       "  </thead>\n",
       "  <tbody>\n",
       "    <tr>\n",
       "      <th>count</th>\n",
       "      <td>66.000000</td>\n",
       "      <td>66.000000</td>\n",
       "    </tr>\n",
       "    <tr>\n",
       "      <th>mean</th>\n",
       "      <td>-2.215253</td>\n",
       "      <td>-0.679691</td>\n",
       "    </tr>\n",
       "    <tr>\n",
       "      <th>std</th>\n",
       "      <td>0.685748</td>\n",
       "      <td>0.758295</td>\n",
       "    </tr>\n",
       "    <tr>\n",
       "      <th>min</th>\n",
       "      <td>-3.608099</td>\n",
       "      <td>-2.696608</td>\n",
       "    </tr>\n",
       "    <tr>\n",
       "      <th>25%</th>\n",
       "      <td>-2.677524</td>\n",
       "      <td>-1.093469</td>\n",
       "    </tr>\n",
       "    <tr>\n",
       "      <th>50%</th>\n",
       "      <td>-2.364173</td>\n",
       "      <td>-0.774205</td>\n",
       "    </tr>\n",
       "    <tr>\n",
       "      <th>75%</th>\n",
       "      <td>-1.667741</td>\n",
       "      <td>-0.034172</td>\n",
       "    </tr>\n",
       "    <tr>\n",
       "      <th>max</th>\n",
       "      <td>-0.794825</td>\n",
       "      <td>0.866072</td>\n",
       "    </tr>\n",
       "  </tbody>\n",
       "</table>\n",
       "</div>"
      ],
      "text/plain": [
       "             PC1        PC2\n",
       "count  66.000000  66.000000\n",
       "mean   -2.215253  -0.679691\n",
       "std     0.685748   0.758295\n",
       "min    -3.608099  -2.696608\n",
       "25%    -2.677524  -1.093469\n",
       "50%    -2.364173  -0.774205\n",
       "75%    -1.667741  -0.034172\n",
       "max    -0.794825   0.866072"
      ]
     },
     "execution_count": 25,
     "metadata": {},
     "output_type": "execute_result"
    }
   ],
   "source": [
    "cluster1_k5.describe()"
   ]
  },
  {
   "cell_type": "code",
   "execution_count": 26,
   "id": "3eae9224",
   "metadata": {},
   "outputs": [
    {
     "data": {
      "text/html": [
       "<div>\n",
       "<style scoped>\n",
       "    .dataframe tbody tr th:only-of-type {\n",
       "        vertical-align: middle;\n",
       "    }\n",
       "\n",
       "    .dataframe tbody tr th {\n",
       "        vertical-align: top;\n",
       "    }\n",
       "\n",
       "    .dataframe thead th {\n",
       "        text-align: right;\n",
       "    }\n",
       "</style>\n",
       "<table border=\"1\" class=\"dataframe\">\n",
       "  <thead>\n",
       "    <tr style=\"text-align: right;\">\n",
       "      <th></th>\n",
       "      <th>PC1</th>\n",
       "      <th>PC2</th>\n",
       "    </tr>\n",
       "  </thead>\n",
       "  <tbody>\n",
       "    <tr>\n",
       "      <th>count</th>\n",
       "      <td>41.000000</td>\n",
       "      <td>41.000000</td>\n",
       "    </tr>\n",
       "    <tr>\n",
       "      <th>mean</th>\n",
       "      <td>1.967679</td>\n",
       "      <td>1.187604</td>\n",
       "    </tr>\n",
       "    <tr>\n",
       "      <th>std</th>\n",
       "      <td>0.969746</td>\n",
       "      <td>0.749767</td>\n",
       "    </tr>\n",
       "    <tr>\n",
       "      <th>min</th>\n",
       "      <td>0.380884</td>\n",
       "      <td>-0.069999</td>\n",
       "    </tr>\n",
       "    <tr>\n",
       "      <th>25%</th>\n",
       "      <td>1.280706</td>\n",
       "      <td>0.700282</td>\n",
       "    </tr>\n",
       "    <tr>\n",
       "      <th>50%</th>\n",
       "      <td>1.897202</td>\n",
       "      <td>1.029156</td>\n",
       "    </tr>\n",
       "    <tr>\n",
       "      <th>75%</th>\n",
       "      <td>2.621970</td>\n",
       "      <td>1.739316</td>\n",
       "    </tr>\n",
       "    <tr>\n",
       "      <th>max</th>\n",
       "      <td>4.447956</td>\n",
       "      <td>2.878619</td>\n",
       "    </tr>\n",
       "  </tbody>\n",
       "</table>\n",
       "</div>"
      ],
      "text/plain": [
       "             PC1        PC2\n",
       "count  41.000000  41.000000\n",
       "mean    1.967679   1.187604\n",
       "std     0.969746   0.749767\n",
       "min     0.380884  -0.069999\n",
       "25%     1.280706   0.700282\n",
       "50%     1.897202   1.029156\n",
       "75%     2.621970   1.739316\n",
       "max     4.447956   2.878619"
      ]
     },
     "execution_count": 26,
     "metadata": {},
     "output_type": "execute_result"
    }
   ],
   "source": [
    "cluster2_k5.describe()"
   ]
  },
  {
   "cell_type": "code",
   "execution_count": 27,
   "id": "76d5377b",
   "metadata": {},
   "outputs": [
    {
     "data": {
      "text/html": [
       "<div>\n",
       "<style scoped>\n",
       "    .dataframe tbody tr th:only-of-type {\n",
       "        vertical-align: middle;\n",
       "    }\n",
       "\n",
       "    .dataframe tbody tr th {\n",
       "        vertical-align: top;\n",
       "    }\n",
       "\n",
       "    .dataframe thead th {\n",
       "        text-align: right;\n",
       "    }\n",
       "</style>\n",
       "<table border=\"1\" class=\"dataframe\">\n",
       "  <thead>\n",
       "    <tr style=\"text-align: right;\">\n",
       "      <th></th>\n",
       "      <th>PC1</th>\n",
       "      <th>PC2</th>\n",
       "    </tr>\n",
       "  </thead>\n",
       "  <tbody>\n",
       "    <tr>\n",
       "      <th>count</th>\n",
       "      <td>50.000000</td>\n",
       "      <td>50.000000</td>\n",
       "    </tr>\n",
       "    <tr>\n",
       "      <th>mean</th>\n",
       "      <td>0.409902</td>\n",
       "      <td>-1.333471</td>\n",
       "    </tr>\n",
       "    <tr>\n",
       "      <th>std</th>\n",
       "      <td>0.709503</td>\n",
       "      <td>0.864089</td>\n",
       "    </tr>\n",
       "    <tr>\n",
       "      <th>min</th>\n",
       "      <td>-1.022427</td>\n",
       "      <td>-3.088784</td>\n",
       "    </tr>\n",
       "    <tr>\n",
       "      <th>25%</th>\n",
       "      <td>-0.182705</td>\n",
       "      <td>-2.026377</td>\n",
       "    </tr>\n",
       "    <tr>\n",
       "      <th>50%</th>\n",
       "      <td>0.693308</td>\n",
       "      <td>-1.282710</td>\n",
       "    </tr>\n",
       "    <tr>\n",
       "      <th>75%</th>\n",
       "      <td>0.937022</td>\n",
       "      <td>-0.543144</td>\n",
       "    </tr>\n",
       "    <tr>\n",
       "      <th>max</th>\n",
       "      <td>1.779104</td>\n",
       "      <td>-0.022089</td>\n",
       "    </tr>\n",
       "  </tbody>\n",
       "</table>\n",
       "</div>"
      ],
      "text/plain": [
       "             PC1        PC2\n",
       "count  50.000000  50.000000\n",
       "mean    0.409902  -1.333471\n",
       "std     0.709503   0.864089\n",
       "min    -1.022427  -3.088784\n",
       "25%    -0.182705  -2.026377\n",
       "50%     0.693308  -1.282710\n",
       "75%     0.937022  -0.543144\n",
       "max     1.779104  -0.022089"
      ]
     },
     "execution_count": 27,
     "metadata": {},
     "output_type": "execute_result"
    }
   ],
   "source": [
    "cluster3_k5.describe()"
   ]
  },
  {
   "cell_type": "code",
   "execution_count": 28,
   "id": "4c60fe00",
   "metadata": {},
   "outputs": [
    {
     "data": {
      "text/html": [
       "<div>\n",
       "<style scoped>\n",
       "    .dataframe tbody tr th:only-of-type {\n",
       "        vertical-align: middle;\n",
       "    }\n",
       "\n",
       "    .dataframe tbody tr th {\n",
       "        vertical-align: top;\n",
       "    }\n",
       "\n",
       "    .dataframe thead th {\n",
       "        text-align: right;\n",
       "    }\n",
       "</style>\n",
       "<table border=\"1\" class=\"dataframe\">\n",
       "  <thead>\n",
       "    <tr style=\"text-align: right;\">\n",
       "      <th></th>\n",
       "      <th>PC1</th>\n",
       "      <th>PC2</th>\n",
       "    </tr>\n",
       "  </thead>\n",
       "  <tbody>\n",
       "    <tr>\n",
       "      <th>count</th>\n",
       "      <td>70.000000</td>\n",
       "      <td>70.000000</td>\n",
       "    </tr>\n",
       "    <tr>\n",
       "      <th>mean</th>\n",
       "      <td>-1.012032</td>\n",
       "      <td>1.349664</td>\n",
       "    </tr>\n",
       "    <tr>\n",
       "      <th>std</th>\n",
       "      <td>0.820456</td>\n",
       "      <td>0.811368</td>\n",
       "    </tr>\n",
       "    <tr>\n",
       "      <th>min</th>\n",
       "      <td>-2.663356</td>\n",
       "      <td>0.030037</td>\n",
       "    </tr>\n",
       "    <tr>\n",
       "      <th>25%</th>\n",
       "      <td>-1.616316</td>\n",
       "      <td>0.732100</td>\n",
       "    </tr>\n",
       "    <tr>\n",
       "      <th>50%</th>\n",
       "      <td>-0.972314</td>\n",
       "      <td>1.231218</td>\n",
       "    </tr>\n",
       "    <tr>\n",
       "      <th>75%</th>\n",
       "      <td>-0.401150</td>\n",
       "      <td>1.748757</td>\n",
       "    </tr>\n",
       "    <tr>\n",
       "      <th>max</th>\n",
       "      <td>0.566297</td>\n",
       "      <td>3.804040</td>\n",
       "    </tr>\n",
       "  </tbody>\n",
       "</table>\n",
       "</div>"
      ],
      "text/plain": [
       "             PC1        PC2\n",
       "count  70.000000  70.000000\n",
       "mean   -1.012032   1.349664\n",
       "std     0.820456   0.811368\n",
       "min    -2.663356   0.030037\n",
       "25%    -1.616316   0.732100\n",
       "50%    -0.972314   1.231218\n",
       "75%    -0.401150   1.748757\n",
       "max     0.566297   3.804040"
      ]
     },
     "execution_count": 28,
     "metadata": {},
     "output_type": "execute_result"
    }
   ],
   "source": [
    "cluster4_k5.describe()"
   ]
  },
  {
   "cell_type": "code",
   "execution_count": 29,
   "id": "92f701d3",
   "metadata": {},
   "outputs": [
    {
     "data": {
      "text/html": [
       "<div>\n",
       "<style scoped>\n",
       "    .dataframe tbody tr th:only-of-type {\n",
       "        vertical-align: middle;\n",
       "    }\n",
       "\n",
       "    .dataframe tbody tr th {\n",
       "        vertical-align: top;\n",
       "    }\n",
       "\n",
       "    .dataframe thead th {\n",
       "        text-align: right;\n",
       "    }\n",
       "</style>\n",
       "<table border=\"1\" class=\"dataframe\">\n",
       "  <thead>\n",
       "    <tr style=\"text-align: right;\">\n",
       "      <th></th>\n",
       "      <th>PC1</th>\n",
       "      <th>PC2</th>\n",
       "    </tr>\n",
       "  </thead>\n",
       "  <tbody>\n",
       "    <tr>\n",
       "      <th>count</th>\n",
       "      <td>43.000000</td>\n",
       "      <td>43.000000</td>\n",
       "    </tr>\n",
       "    <tr>\n",
       "      <th>mean</th>\n",
       "      <td>2.694861</td>\n",
       "      <td>-0.735699</td>\n",
       "    </tr>\n",
       "    <tr>\n",
       "      <th>std</th>\n",
       "      <td>0.657147</td>\n",
       "      <td>0.572745</td>\n",
       "    </tr>\n",
       "    <tr>\n",
       "      <th>min</th>\n",
       "      <td>1.587775</td>\n",
       "      <td>-2.475089</td>\n",
       "    </tr>\n",
       "    <tr>\n",
       "      <th>25%</th>\n",
       "      <td>2.225434</td>\n",
       "      <td>-0.957354</td>\n",
       "    </tr>\n",
       "    <tr>\n",
       "      <th>50%</th>\n",
       "      <td>2.606534</td>\n",
       "      <td>-0.619318</td>\n",
       "    </tr>\n",
       "    <tr>\n",
       "      <th>75%</th>\n",
       "      <td>3.252227</td>\n",
       "      <td>-0.342170</td>\n",
       "    </tr>\n",
       "    <tr>\n",
       "      <th>max</th>\n",
       "      <td>4.177931</td>\n",
       "      <td>0.195504</td>\n",
       "    </tr>\n",
       "  </tbody>\n",
       "</table>\n",
       "</div>"
      ],
      "text/plain": [
       "             PC1        PC2\n",
       "count  43.000000  43.000000\n",
       "mean    2.694861  -0.735699\n",
       "std     0.657147   0.572745\n",
       "min     1.587775  -2.475089\n",
       "25%     2.225434  -0.957354\n",
       "50%     2.606534  -0.619318\n",
       "75%     3.252227  -0.342170\n",
       "max     4.177931   0.195504"
      ]
     },
     "execution_count": 29,
     "metadata": {},
     "output_type": "execute_result"
    }
   ],
   "source": [
    "cluster5_k5.describe()"
   ]
  },
  {
   "cell_type": "raw",
   "id": "30d1e29a",
   "metadata": {},
   "source": [
    "قبل از کلاستر بندی از دیتافریم دیسکرایب گرفته شد و با نتیجه فعلی مقایسه کردیم. مشاهده میکنیم فاصله بین مینیممم و ماکزیمم در هر کلاستر کمتر از این فاصله در دیتافریم اولیه است هر چقدر تعداد این کلاسترها افزایش یابد این فاصله کمتر میشود. از طرف دیگر انحراف معیار هر کلاستر بعد از کلاستر بندی کمتر از انحراف معیار دیتا فریم اولیه است.و هر چقدر تعداد کلاسترها افزایش یابد این انحراف معیار کمتر میشود..از طرف دیگر تعداد نقاط موجود در هر کلاستر بعد از افزایش تعداد کلاسترها نیز طبیعتا کاهش میابد. از طرف دیگر فاصله بین چارک اول و سوم نیز با افزایش تعداد کلاسترها کاهش میابد."
   ]
  },
  {
   "cell_type": "code",
   "execution_count": null,
   "id": "79cc789a",
   "metadata": {},
   "outputs": [],
   "source": []
  }
 ],
 "metadata": {
  "kernelspec": {
   "display_name": "Python 3",
   "language": "python",
   "name": "python3"
  },
  "language_info": {
   "codemirror_mode": {
    "name": "ipython",
    "version": 3
   },
   "file_extension": ".py",
   "mimetype": "text/x-python",
   "name": "python",
   "nbconvert_exporter": "python",
   "pygments_lexer": "ipython3",
   "version": "3.8.8"
  }
 },
 "nbformat": 4,
 "nbformat_minor": 5
}
