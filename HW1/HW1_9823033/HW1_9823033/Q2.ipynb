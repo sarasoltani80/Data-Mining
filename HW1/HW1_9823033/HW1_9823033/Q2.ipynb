{
 "cells": [
  {
   "cell_type": "code",
   "execution_count": 1,
   "id": "dc66ab76",
   "metadata": {},
   "outputs": [],
   "source": [
    "import pandas as pd\n",
    "import matplotlib.pyplot as plt\n",
    "import seaborn as sns"
   ]
  },
  {
   "cell_type": "code",
   "execution_count": 2,
   "id": "3fae3300",
   "metadata": {},
   "outputs": [
    {
     "name": "stdout",
     "output_type": "stream",
     "text": [
      "     gender race/ethnicity parental level of education         lunch  \\\n",
      "0    female        group B           bachelor's degree      standard   \n",
      "1    female        group C                some college      standard   \n",
      "2    female        group B             master's degree      standard   \n",
      "3      male        group A          associate's degree  free/reduced   \n",
      "4      male        group C                some college      standard   \n",
      "..      ...            ...                         ...           ...   \n",
      "995  female        group E             master's degree      standard   \n",
      "996    male        group C                 high school  free/reduced   \n",
      "997  female        group C                 high school  free/reduced   \n",
      "998  female        group D                some college      standard   \n",
      "999  female        group D                some college  free/reduced   \n",
      "\n",
      "    test preparation course  math score  reading score  writing score  \n",
      "0                      none          72             72             74  \n",
      "1                 completed          69             90             88  \n",
      "2                      none          90             95             93  \n",
      "3                      none          47             57             44  \n",
      "4                      none          76             78             75  \n",
      "..                      ...         ...            ...            ...  \n",
      "995               completed          88             99             95  \n",
      "996                    none          62             55             55  \n",
      "997               completed          59             71             65  \n",
      "998               completed          68             78             77  \n",
      "999                    none          77             86             86  \n",
      "\n",
      "[1000 rows x 8 columns]\n"
     ]
    }
   ],
   "source": [
    "#Q1_coverting to data frame\n",
    "students = pd.read_csv(\"C:/Users/acer/Desktop/HW1_9823033/Student.csv\")\n",
    "print(students)"
   ]
  },
  {
   "cell_type": "code",
   "execution_count": 11,
   "id": "e5148c30",
   "metadata": {},
   "outputs": [
    {
     "name": "stdout",
     "output_type": "stream",
     "text": [
      "mean_male : 68.72821576763485\n",
      "min_male : 27.0\n",
      "max_male : 100.0\n"
     ]
    },
    {
     "data": {
      "image/png": "[encoded data removed]",
      "text/plain": [
       "<Figure size 432x288 with 1 Axes>"
      ]
     },
     "metadata": {
      "needs_background": "light"
     },
     "output_type": "display_data"
    }
   ],
   "source": [
    "#Q2_male_section\n",
    "male=students.loc[students.gender == \"male\"]\n",
    "\n",
    "sns.histplot(male[\"math score\"], color = \"yellow\")\n",
    "\n",
    "mean=male.describe().loc[\"mean\",\"math score\"]\n",
    "minimum=male.describe().loc[\"min\",\"math score\"]\n",
    "maximum=male.describe().loc[\"max\",\"math score\"]\n",
    "\n",
    "print(\"mean_male :\",mean)\n",
    "print(\"min_male :\", minimum)\n",
    "print(\"max_male :\",maximum)"
   ]
  },
  {
   "cell_type": "code",
   "execution_count": 13,
   "id": "014c0726",
   "metadata": {},
   "outputs": [
    {
     "name": "stdout",
     "output_type": "stream",
     "text": [
      "mean_female : 63.633204633204635\n",
      "min_female : 0.0\n",
      "max_female : 100.0\n"
     ]
    },
    {
     "data": {
      "image/png": "[encoded data removed]",
      "text/plain": [
       "<Figure size 432x288 with 1 Axes>"
      ]
     },
     "metadata": {
      "needs_background": "light"
     },
     "output_type": "display_data"
    }
   ],
   "source": [
    "#Q2_female_section\n",
    "female=students.loc[students.gender == \"female\"]\n",
    "\n",
    "sns.histplot(female[\"math score\"], color = \"red\")\n",
    "\n",
    "mean1=female.describe().loc[\"mean\",\"math score\"]\n",
    "minimum1=female.describe().loc[\"min\",\"math score\"]\n",
    "maximum1=female.describe().loc[\"max\",\"math score\"]\n",
    "\n",
    "print(\"mean_female :\",mean1)\n",
    "print(\"min_female :\", minimum1)\n",
    "print(\"max_female :\",maximum1)"
   ]
  },
  {
   "cell_type": "code",
   "execution_count": 14,
   "id": "8b40953e",
   "metadata": {},
   "outputs": [
    {
     "name": "stdout",
     "output_type": "stream",
     "text": [
      "mean_male : 68.72821576763485\n",
      "mean_female : 63.633204633204635\n",
      "\n",
      "\n",
      "min_male : 27.0\n",
      "min_female : 0.0\n",
      "\n",
      "\n",
      "max_male : 100.0\n",
      "max_female : 100.0\n",
      "\n",
      "\n"
     ]
    },
    {
     "data": {
      "image/png": "[encoded data removed]",
      "text/plain": [
       "<Figure size 432x288 with 1 Axes>"
      ]
     },
     "metadata": {
      "needs_background": "light"
     },
     "output_type": "display_data"
    }
   ],
   "source": [
    "#Q3_comparing female and male\n",
    "sns.histplot(male[\"math score\"], color = \"yellow\")\n",
    "sns.histplot(female[\"math score\"], color = \"red\")\n",
    "\n",
    "print(\"mean_male :\",mean)\n",
    "print(\"mean_female :\",mean1)\n",
    "print(\"\\n\")\n",
    "\n",
    "print(\"min_male :\", minimum)\n",
    "print(\"min_female :\", minimum1)\n",
    "print(\"\\n\")\n",
    "\n",
    "print(\"max_male :\",maximum)\n",
    "print(\"max_female :\",maximum1)\n",
    "print(\"\\n\")\n",
    "\n",
    "# mean_male > mean_female and min_male > min_female and max_male = max_female ----> male_math score > female_mathe score"
   ]
  },
  {
   "cell_type": "code",
   "execution_count": 15,
   "id": "63653e05",
   "metadata": {},
   "outputs": [
    {
     "data": {
      "image/png": "[encoded data removed]",
      "text/plain": [
       "<Figure size 720x504 with 1 Axes>"
      ]
     },
     "metadata": {},
     "output_type": "display_data"
    }
   ],
   "source": [
    "#Q3_pie_diagram\n",
    "col=students.loc[:,'race/ethnicity']\n",
    "\n",
    "val_count=col.value_counts()\n",
    "\n",
    "\n",
    "val_count[val_count==262].index\n",
    "#print(len(val_count))\n",
    "\n",
    "labels_set=[]\n",
    "for x in range(len(val_count)):\n",
    "    labels_set.append(val_count[val_count==val_count[x]].index)\n",
    "#print(labels_set)\n",
    "\n",
    "data=[]\n",
    "for y in range(len(val_count)):\n",
    "    data.append(val_count[y])\n",
    "#print(data)\n",
    "\n",
    "fig = plt.figure(figsize =(10, 7))\n",
    "plt.pie(data, labels = labels_set)\n",
    "\n",
    "plt.show()\n"
   ]
  },
  {
   "cell_type": "code",
   "execution_count": 17,
   "id": "07e3c30c",
   "metadata": {},
   "outputs": [
    {
     "name": "stdout",
     "output_type": "stream",
     "text": [
      "    total_grade  gender race/ethnicity parental level of education  \\\n",
      "0     72.666667  female        group B           bachelor's degree   \n",
      "1     82.333333  female        group C                some college   \n",
      "2     92.666667  female        group B             master's degree   \n",
      "3     49.333333    male        group A          associate's degree   \n",
      "4     76.333333    male        group C                some college   \n",
      "..          ...     ...            ...                         ...   \n",
      "995        94.0  female        group E             master's degree   \n",
      "996   57.333333    male        group C                 high school   \n",
      "997        65.0  female        group C                 high school   \n",
      "998   74.333333  female        group D                some college   \n",
      "999        83.0  female        group D                some college   \n",
      "\n",
      "            lunch test preparation course  math score  reading score  \\\n",
      "0        standard                    none          72             72   \n",
      "1        standard               completed          69             90   \n",
      "2        standard                    none          90             95   \n",
      "3    free/reduced                    none          47             57   \n",
      "4        standard                    none          76             78   \n",
      "..            ...                     ...         ...            ...   \n",
      "995      standard               completed          88             99   \n",
      "996  free/reduced                    none          62             55   \n",
      "997  free/reduced               completed          59             71   \n",
      "998      standard               completed          68             78   \n",
      "999  free/reduced                    none          77             86   \n",
      "\n",
      "     writing score  \n",
      "0               74  \n",
      "1               88  \n",
      "2               93  \n",
      "3               44  \n",
      "4               75  \n",
      "..             ...  \n",
      "995             95  \n",
      "996             55  \n",
      "997             65  \n",
      "998             77  \n",
      "999             86  \n",
      "\n",
      "[1000 rows x 9 columns]\n"
     ]
    }
   ],
   "source": [
    "#Q4_inserting_total_grade_column\n",
    "students.insert(0,\"total_grade\", \" \")\n",
    "for z in range(students.shape[0]):\n",
    "    students.loc[z,\"total_grade\"]=(students.loc[z,\"math score\"] + students.loc[z,\"reading score\"] + students.loc[z,\"writing score\"]) /3\n",
    "print(students)  "
   ]
  },
  {
   "cell_type": "code",
   "execution_count": 18,
   "id": "aab7f1a3",
   "metadata": {},
   "outputs": [
    {
     "data": {
      "text/html": [
       "<div>\n",
       "<style scoped>\n",
       "    .dataframe tbody tr th:only-of-type {\n",
       "        vertical-align: middle;\n",
       "    }\n",
       "\n",
       "    .dataframe tbody tr th {\n",
       "        vertical-align: top;\n",
       "    }\n",
       "\n",
       "    .dataframe thead th {\n",
       "        text-align: right;\n",
       "    }\n",
       "</style>\n",
       "<table border=\"1\" class=\"dataframe\">\n",
       "  <thead>\n",
       "    <tr style=\"text-align: right;\">\n",
       "      <th>parental level of education</th>\n",
       "      <th>associate's degree</th>\n",
       "      <th>bachelor's degree</th>\n",
       "      <th>high school</th>\n",
       "      <th>master's degree</th>\n",
       "      <th>some college</th>\n",
       "      <th>some high school</th>\n",
       "      <th>All</th>\n",
       "    </tr>\n",
       "    <tr>\n",
       "      <th>gender</th>\n",
       "      <th></th>\n",
       "      <th></th>\n",
       "      <th></th>\n",
       "      <th></th>\n",
       "      <th></th>\n",
       "      <th></th>\n",
       "      <th></th>\n",
       "    </tr>\n",
       "  </thead>\n",
       "  <tbody>\n",
       "    <tr>\n",
       "      <th>female</th>\n",
       "      <td>116</td>\n",
       "      <td>63</td>\n",
       "      <td>94</td>\n",
       "      <td>36</td>\n",
       "      <td>118</td>\n",
       "      <td>91</td>\n",
       "      <td>518</td>\n",
       "    </tr>\n",
       "    <tr>\n",
       "      <th>male</th>\n",
       "      <td>106</td>\n",
       "      <td>55</td>\n",
       "      <td>102</td>\n",
       "      <td>23</td>\n",
       "      <td>108</td>\n",
       "      <td>88</td>\n",
       "      <td>482</td>\n",
       "    </tr>\n",
       "    <tr>\n",
       "      <th>All</th>\n",
       "      <td>222</td>\n",
       "      <td>118</td>\n",
       "      <td>196</td>\n",
       "      <td>59</td>\n",
       "      <td>226</td>\n",
       "      <td>179</td>\n",
       "      <td>1000</td>\n",
       "    </tr>\n",
       "  </tbody>\n",
       "</table>\n",
       "</div>"
      ],
      "text/plain": [
       "parental level of education  associate's degree  bachelor's degree  \\\n",
       "gender                                                               \n",
       "female                                      116                 63   \n",
       "male                                        106                 55   \n",
       "All                                         222                118   \n",
       "\n",
       "parental level of education  high school  master's degree  some college  \\\n",
       "gender                                                                    \n",
       "female                                94               36           118   \n",
       "male                                 102               23           108   \n",
       "All                                  196               59           226   \n",
       "\n",
       "parental level of education  some high school   All  \n",
       "gender                                               \n",
       "female                                     91   518  \n",
       "male                                       88   482  \n",
       "All                                       179  1000  "
      ]
     },
     "execution_count": 18,
     "metadata": {},
     "output_type": "execute_result"
    }
   ],
   "source": [
    "#Q5_contingency_table\n",
    "pd.crosstab(index=students['gender'], columns=students['parental level of education'],margins=True)"
   ]
  },
  {
   "cell_type": "code",
   "execution_count": null,
   "id": "44eb00d5",
   "metadata": {},
   "outputs": [],
   "source": []
  }
 ],
 "metadata": {
  "kernelspec": {
   "display_name": "Python 3",
   "language": "python",
   "name": "python3"
  },
  "language_info": {
   "codemirror_mode": {
    "name": "ipython",
    "version": 3
   },
   "file_extension": ".py",
   "mimetype": "text/x-python",
   "name": "python",
   "nbconvert_exporter": "python",
   "pygments_lexer": "ipython3",
   "version": "3.8.8"
  }
 },
 "nbformat": 4,
 "nbformat_minor": 5
}
